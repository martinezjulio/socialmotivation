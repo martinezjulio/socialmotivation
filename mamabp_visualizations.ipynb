{
 "cells": [
  {
   "cell_type": "code",
   "execution_count": 9,
   "metadata": {},
   "outputs": [
    {
     "name": "stdout",
     "output_type": "stream",
     "text": [
      "The autoreload extension is already loaded. To reload it, use:\n",
      "  %reload_ext autoreload\n"
     ]
    }
   ],
   "source": [
    "%load_ext autoreload\n",
    "%autoreload 2\n",
    "\n",
    "from agents import banditagents\n",
    "from environments import bandits\n",
    "import utils\n",
    "\n",
    "import os\n",
    "import numpy as np\n",
    "import matplotlib.pyplot as plt\n",
    "import seaborn as sns\n",
    "import yaml\n",
    "sns.set_theme(style=\"whitegrid\", palette=\"pastel\")"
   ]
  },
  {
   "cell_type": "code",
   "execution_count": 20,
   "metadata": {},
   "outputs": [],
   "source": [
    "configs_dir = '/Users/juliomartinez/Documents/PhD/socialmotivation/configs'\n",
    "num_episodes = 50\n",
    "solvers = ['EpsilonGreedyAgent']\n",
    "#solvers = ['GreedyAgent']\n",
    "#solvers = ['GreedyAgent', 'EpsilonGreedyAgent']\n",
    "environment = 'TwoArmBandit'\n",
    "\n",
    "bandit_config_filename = os.path.join(configs_dir, environment + '.yaml')\n",
    "bandit_config = utils.get_config(bandit_config_filename)\n",
    "env = bandits.Bandit(bandit_config)\n",
    "num_iterations = 1000\n",
    "\n",
    "demonstrator_all_rewards = np.empty(shape=(len(solvers),num_episodes, num_iterations),dtype=float)\n",
    "demonstrator_all_actions = np.empty(shape=(len(solvers),num_episodes, num_iterations),dtype=float)\n",
    "demonstrator_best_arm_estimate_proportions = np.arange(env.num_arms)\n",
    "\n",
    "learner_all_rewards = np.empty(shape=(len(solvers),num_episodes, num_iterations),dtype=float)\n",
    "learner_all_actions = np.empty(shape=(len(solvers),num_episodes, num_iterations),dtype=float)\n",
    "learner_best_arm_estimate_proportions = np.arange(env.num_arms)\n",
    "\n",
    "for i, solver in enumerate(solvers):\n",
    "    \n",
    "    # Get solver class \n",
    "    agentClass = getattr(banditagents, solver)\n",
    "    \n",
    "    # Get config file\n",
    "    agents_config_filename = os.path.join(configs_dir, solver + '.yaml')\n",
    "    agents_config = utils.get_config(agents_config_filename)\n",
    "\n",
    "    for j in range(num_episodes):\n",
    "        # run solver for demonstrator\n",
    "        demonstrator = agentClass(agents_config['demonstrator'])   \n",
    "        demonstrator(env)\n",
    "        demonstrator_all_rewards[i,j,:] = demonstrator.reward_history\n",
    "        demonstrator_all_actions[i,j,:] = demonstrator.arm_id_history\n",
    "        # run solver for learner\n",
    "        learner = agentClass(agents_config['learner'])\n",
    "        learner(env, demonstrator)\n",
    "        learner_all_rewards[i,j,:] = learner.reward_history\n",
    "        learner_all_actions[i,j,:] = learner.arm_id_history\n",
    "        \n",
    "        # save best arm proportion\n",
    "        #demonstrator_best_arm_estimate_proportions[demonstrator.best_arm_id]=+1\n",
    "        #learner_best_arm_estimate_proportions[learner.best_arm_id]=+1\n",
    "        \n",
    "#demonstrator_best_arm_estimate_proportions = demonstrator_best_arm_estimate_proportions/np.sum(demonstrator_best_arm_estimate_proportions)\n",
    "#learner_best_arm_estimate_proportions = learner_best_arm_estimate_proportions/np.sum(learner_best_arm_estimate_proportions)"
   ]
  }
 ],
 "metadata": {
  "interpreter": {
   "hash": "f6d25498612cb4f5f159617db40943c8f1e1957d59ad3740488367ba41964ca3"
  },
  "kernelspec": {
   "display_name": "Python 3.8.16 ('socialMot')",
   "language": "python",
   "name": "python3"
  },
  "language_info": {
   "codemirror_mode": {
    "name": "ipython",
    "version": 3
   },
   "file_extension": ".py",
   "mimetype": "text/x-python",
   "name": "python",
   "nbconvert_exporter": "python",
   "pygments_lexer": "ipython3",
   "version": "3.8.16"
  },
  "orig_nbformat": 4
 },
 "nbformat": 4,
 "nbformat_minor": 2
}
